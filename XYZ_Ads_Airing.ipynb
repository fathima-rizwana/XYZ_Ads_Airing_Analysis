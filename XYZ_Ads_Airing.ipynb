{
  "nbformat": 4,
  "nbformat_minor": 0,
  "metadata": {
    "colab": {
      "provenance": [],
      "authorship_tag": "ABX9TyM/xrpm4Tnp1q9D20tHkZeC",
      "include_colab_link": true
    },
    "kernelspec": {
      "name": "python3",
      "display_name": "Python 3"
    },
    "language_info": {
      "name": "python"
    }
  },
  "cells": [
    {
      "cell_type": "markdown",
      "metadata": {
        "id": "view-in-github",
        "colab_type": "text"
      },
      "source": [
        "<a href=\"https://colab.research.google.com/github/fathima-rizwana/XYZ_Ads_Airing_Analysis/blob/main/XYZ_Ads_Airing.ipynb\" target=\"_parent\"><img src=\"https://colab.research.google.com/assets/colab-badge.svg\" alt=\"Open In Colab\"/></a>"
      ]
    },
    {
      "cell_type": "code",
      "execution_count": null,
      "metadata": {
        "id": "GxwZDwjs-MTt"
      },
      "outputs": [],
      "source": [
        "import numpy as np\n",
        "import pandas as pd\n",
        "%matplotlib inline\n",
        "from matplotlib import pyplot as plt\n",
        "import seaborn as sns"
      ]
    },
    {
      "cell_type": "code",
      "source": [
        "from google.colab import drive\n",
        "drive.mount('/content/drive')"
      ],
      "metadata": {
        "colab": {
          "base_uri": "https://localhost:8080/"
        },
        "id": "859zVB7o-ZN0",
        "outputId": "e1551781-0e9e-4d4c-dd91-0da19ce97392"
      },
      "execution_count": null,
      "outputs": [
        {
          "output_type": "stream",
          "name": "stdout",
          "text": [
            "Mounted at /content/drive\n"
          ]
        }
      ]
    },
    {
      "cell_type": "code",
      "source": [
        "!pwd"
      ],
      "metadata": {
        "colab": {
          "base_uri": "https://localhost:8080/"
        },
        "id": "g1PSD0JcLBB0",
        "outputId": "6b4f784a-3745-438e-941b-92178689b5d0"
      },
      "execution_count": null,
      "outputs": [
        {
          "output_type": "stream",
          "name": "stdout",
          "text": [
            "/content\n"
          ]
        }
      ]
    },
    {
      "cell_type": "code",
      "source": [
        "xyz_df=pd.read_csv('drive/My Drive/XYZ_Ads_Airing_Project/XYZ_Ads_Airings_Data.csv')"
      ],
      "metadata": {
        "id": "JjJIdZ_gPEI7"
      },
      "execution_count": null,
      "outputs": []
    },
    {
      "cell_type": "code",
      "source": [
        "xyz_df.head()"
      ],
      "metadata": {
        "colab": {
          "base_uri": "https://localhost:8080/",
          "height": 441
        },
        "id": "4-UNZvnXefEj",
        "outputId": "38c02a80-2ad6-4e35-a091-3a11e28fed4b"
      },
      "execution_count": null,
      "outputs": [
        {
          "output_type": "execute_result",
          "data": {
            "text/plain": [
              "        Id                 Brand               Product  Network Network Type  \\\n",
              "0  1000001            Honda Cars            Honda Jazz  N-10079        cable   \n",
              "1  1000002         Maruti Suzuki  Maruti Suzuki Baleno  N-10096        cable   \n",
              "2  1000003         Maruti Suzuki    Maruti Suzuki Ciaz  N-10044        cable   \n",
              "3  1000004         Maruti Suzuki    Maruti Suzuki Ciaz  N-10060        cable   \n",
              "4  1000005  Hyundai Motors India           Hyundai I20  N-10123        cable   \n",
              "\n",
              "      Show        Date         Time  Pod Position       Dayparts  Duration  \\\n",
              "0  S-16736  01/10/2021  10:19:08 PM             1     PRIME TIME        30   \n",
              "1  S-17450  01/16/2021   7:28:13 PM             3        WEEKEND        30   \n",
              "2  S-12299  01/05/2021   1:09:26 PM             2        DAYTIME        30   \n",
              "3  S-14354  01/06/2021   8:55:49 AM             1  EARLY MORNING        30   \n",
              "4  S-15146  01/02/2021  11:07:43 PM             2    LATE FRINGE        30   \n",
              "\n",
              "   EQ Units  Spend ($)  Broadcast Year Broadcast Month  Broadcast Week  \\\n",
              "0       1.0        178            2021             JAN               2   \n",
              "1       1.0        514            2021             JAN               3   \n",
              "2       1.0       2313            2021             JAN               2   \n",
              "3       1.0        308            2021             JAN               2   \n",
              "4       1.0       1885            2021             JAN               1   \n",
              "\n",
              "   Day Of Week  Hour Of Day         TimeZone  \n",
              "0            7           22  Northeast India  \n",
              "1            6           19  Northeast India  \n",
              "2            2           13  Northeast India  \n",
              "3            3            8  Northeast India  \n",
              "4            6           23  Northeast India  "
            ],
            "text/html": [
              "\n",
              "  <div id=\"df-10adb5e1-3eea-413a-bc92-b3ecaad0d4d3\">\n",
              "    <div class=\"colab-df-container\">\n",
              "      <div>\n",
              "<style scoped>\n",
              "    .dataframe tbody tr th:only-of-type {\n",
              "        vertical-align: middle;\n",
              "    }\n",
              "\n",
              "    .dataframe tbody tr th {\n",
              "        vertical-align: top;\n",
              "    }\n",
              "\n",
              "    .dataframe thead th {\n",
              "        text-align: right;\n",
              "    }\n",
              "</style>\n",
              "<table border=\"1\" class=\"dataframe\">\n",
              "  <thead>\n",
              "    <tr style=\"text-align: right;\">\n",
              "      <th></th>\n",
              "      <th>Id</th>\n",
              "      <th>Brand</th>\n",
              "      <th>Product</th>\n",
              "      <th>Network</th>\n",
              "      <th>Network Type</th>\n",
              "      <th>Show</th>\n",
              "      <th>Date</th>\n",
              "      <th>Time</th>\n",
              "      <th>Pod Position</th>\n",
              "      <th>Dayparts</th>\n",
              "      <th>Duration</th>\n",
              "      <th>EQ Units</th>\n",
              "      <th>Spend ($)</th>\n",
              "      <th>Broadcast Year</th>\n",
              "      <th>Broadcast Month</th>\n",
              "      <th>Broadcast Week</th>\n",
              "      <th>Day Of Week</th>\n",
              "      <th>Hour Of Day</th>\n",
              "      <th>TimeZone</th>\n",
              "    </tr>\n",
              "  </thead>\n",
              "  <tbody>\n",
              "    <tr>\n",
              "      <th>0</th>\n",
              "      <td>1000001</td>\n",
              "      <td>Honda Cars</td>\n",
              "      <td>Honda Jazz</td>\n",
              "      <td>N-10079</td>\n",
              "      <td>cable</td>\n",
              "      <td>S-16736</td>\n",
              "      <td>01/10/2021</td>\n",
              "      <td>10:19:08 PM</td>\n",
              "      <td>1</td>\n",
              "      <td>PRIME TIME</td>\n",
              "      <td>30</td>\n",
              "      <td>1.0</td>\n",
              "      <td>178</td>\n",
              "      <td>2021</td>\n",
              "      <td>JAN</td>\n",
              "      <td>2</td>\n",
              "      <td>7</td>\n",
              "      <td>22</td>\n",
              "      <td>Northeast India</td>\n",
              "    </tr>\n",
              "    <tr>\n",
              "      <th>1</th>\n",
              "      <td>1000002</td>\n",
              "      <td>Maruti Suzuki</td>\n",
              "      <td>Maruti Suzuki Baleno</td>\n",
              "      <td>N-10096</td>\n",
              "      <td>cable</td>\n",
              "      <td>S-17450</td>\n",
              "      <td>01/16/2021</td>\n",
              "      <td>7:28:13 PM</td>\n",
              "      <td>3</td>\n",
              "      <td>WEEKEND</td>\n",
              "      <td>30</td>\n",
              "      <td>1.0</td>\n",
              "      <td>514</td>\n",
              "      <td>2021</td>\n",
              "      <td>JAN</td>\n",
              "      <td>3</td>\n",
              "      <td>6</td>\n",
              "      <td>19</td>\n",
              "      <td>Northeast India</td>\n",
              "    </tr>\n",
              "    <tr>\n",
              "      <th>2</th>\n",
              "      <td>1000003</td>\n",
              "      <td>Maruti Suzuki</td>\n",
              "      <td>Maruti Suzuki Ciaz</td>\n",
              "      <td>N-10044</td>\n",
              "      <td>cable</td>\n",
              "      <td>S-12299</td>\n",
              "      <td>01/05/2021</td>\n",
              "      <td>1:09:26 PM</td>\n",
              "      <td>2</td>\n",
              "      <td>DAYTIME</td>\n",
              "      <td>30</td>\n",
              "      <td>1.0</td>\n",
              "      <td>2313</td>\n",
              "      <td>2021</td>\n",
              "      <td>JAN</td>\n",
              "      <td>2</td>\n",
              "      <td>2</td>\n",
              "      <td>13</td>\n",
              "      <td>Northeast India</td>\n",
              "    </tr>\n",
              "    <tr>\n",
              "      <th>3</th>\n",
              "      <td>1000004</td>\n",
              "      <td>Maruti Suzuki</td>\n",
              "      <td>Maruti Suzuki Ciaz</td>\n",
              "      <td>N-10060</td>\n",
              "      <td>cable</td>\n",
              "      <td>S-14354</td>\n",
              "      <td>01/06/2021</td>\n",
              "      <td>8:55:49 AM</td>\n",
              "      <td>1</td>\n",
              "      <td>EARLY MORNING</td>\n",
              "      <td>30</td>\n",
              "      <td>1.0</td>\n",
              "      <td>308</td>\n",
              "      <td>2021</td>\n",
              "      <td>JAN</td>\n",
              "      <td>2</td>\n",
              "      <td>3</td>\n",
              "      <td>8</td>\n",
              "      <td>Northeast India</td>\n",
              "    </tr>\n",
              "    <tr>\n",
              "      <th>4</th>\n",
              "      <td>1000005</td>\n",
              "      <td>Hyundai Motors India</td>\n",
              "      <td>Hyundai I20</td>\n",
              "      <td>N-10123</td>\n",
              "      <td>cable</td>\n",
              "      <td>S-15146</td>\n",
              "      <td>01/02/2021</td>\n",
              "      <td>11:07:43 PM</td>\n",
              "      <td>2</td>\n",
              "      <td>LATE FRINGE</td>\n",
              "      <td>30</td>\n",
              "      <td>1.0</td>\n",
              "      <td>1885</td>\n",
              "      <td>2021</td>\n",
              "      <td>JAN</td>\n",
              "      <td>1</td>\n",
              "      <td>6</td>\n",
              "      <td>23</td>\n",
              "      <td>Northeast India</td>\n",
              "    </tr>\n",
              "  </tbody>\n",
              "</table>\n",
              "</div>\n",
              "      <button class=\"colab-df-convert\" onclick=\"convertToInteractive('df-10adb5e1-3eea-413a-bc92-b3ecaad0d4d3')\"\n",
              "              title=\"Convert this dataframe to an interactive table.\"\n",
              "              style=\"display:none;\">\n",
              "        \n",
              "  <svg xmlns=\"http://www.w3.org/2000/svg\" height=\"24px\"viewBox=\"0 0 24 24\"\n",
              "       width=\"24px\">\n",
              "    <path d=\"M0 0h24v24H0V0z\" fill=\"none\"/>\n",
              "    <path d=\"M18.56 5.44l.94 2.06.94-2.06 2.06-.94-2.06-.94-.94-2.06-.94 2.06-2.06.94zm-11 1L8.5 8.5l.94-2.06 2.06-.94-2.06-.94L8.5 2.5l-.94 2.06-2.06.94zm10 10l.94 2.06.94-2.06 2.06-.94-2.06-.94-.94-2.06-.94 2.06-2.06.94z\"/><path d=\"M17.41 7.96l-1.37-1.37c-.4-.4-.92-.59-1.43-.59-.52 0-1.04.2-1.43.59L10.3 9.45l-7.72 7.72c-.78.78-.78 2.05 0 2.83L4 21.41c.39.39.9.59 1.41.59.51 0 1.02-.2 1.41-.59l7.78-7.78 2.81-2.81c.8-.78.8-2.07 0-2.86zM5.41 20L4 18.59l7.72-7.72 1.47 1.35L5.41 20z\"/>\n",
              "  </svg>\n",
              "      </button>\n",
              "      \n",
              "  <style>\n",
              "    .colab-df-container {\n",
              "      display:flex;\n",
              "      flex-wrap:wrap;\n",
              "      gap: 12px;\n",
              "    }\n",
              "\n",
              "    .colab-df-convert {\n",
              "      background-color: #E8F0FE;\n",
              "      border: none;\n",
              "      border-radius: 50%;\n",
              "      cursor: pointer;\n",
              "      display: none;\n",
              "      fill: #1967D2;\n",
              "      height: 32px;\n",
              "      padding: 0 0 0 0;\n",
              "      width: 32px;\n",
              "    }\n",
              "\n",
              "    .colab-df-convert:hover {\n",
              "      background-color: #E2EBFA;\n",
              "      box-shadow: 0px 1px 2px rgba(60, 64, 67, 0.3), 0px 1px 3px 1px rgba(60, 64, 67, 0.15);\n",
              "      fill: #174EA6;\n",
              "    }\n",
              "\n",
              "    [theme=dark] .colab-df-convert {\n",
              "      background-color: #3B4455;\n",
              "      fill: #D2E3FC;\n",
              "    }\n",
              "\n",
              "    [theme=dark] .colab-df-convert:hover {\n",
              "      background-color: #434B5C;\n",
              "      box-shadow: 0px 1px 3px 1px rgba(0, 0, 0, 0.15);\n",
              "      filter: drop-shadow(0px 1px 2px rgba(0, 0, 0, 0.3));\n",
              "      fill: #FFFFFF;\n",
              "    }\n",
              "  </style>\n",
              "\n",
              "      <script>\n",
              "        const buttonEl =\n",
              "          document.querySelector('#df-10adb5e1-3eea-413a-bc92-b3ecaad0d4d3 button.colab-df-convert');\n",
              "        buttonEl.style.display =\n",
              "          google.colab.kernel.accessAllowed ? 'block' : 'none';\n",
              "\n",
              "        async function convertToInteractive(key) {\n",
              "          const element = document.querySelector('#df-10adb5e1-3eea-413a-bc92-b3ecaad0d4d3');\n",
              "          const dataTable =\n",
              "            await google.colab.kernel.invokeFunction('convertToInteractive',\n",
              "                                                     [key], {});\n",
              "          if (!dataTable) return;\n",
              "\n",
              "          const docLinkHtml = 'Like what you see? Visit the ' +\n",
              "            '<a target=\"_blank\" href=https://colab.research.google.com/notebooks/data_table.ipynb>data table notebook</a>'\n",
              "            + ' to learn more about interactive tables.';\n",
              "          element.innerHTML = '';\n",
              "          dataTable['output_type'] = 'display_data';\n",
              "          await google.colab.output.renderOutput(dataTable, element);\n",
              "          const docLink = document.createElement('div');\n",
              "          docLink.innerHTML = docLinkHtml;\n",
              "          element.appendChild(docLink);\n",
              "        }\n",
              "      </script>\n",
              "    </div>\n",
              "  </div>\n",
              "  "
            ]
          },
          "metadata": {},
          "execution_count": 5
        }
      ]
    },
    {
      "cell_type": "code",
      "source": [
        "xyz_df.shape"
      ],
      "metadata": {
        "colab": {
          "base_uri": "https://localhost:8080/"
        },
        "id": "1Ya4gq-2u1Sr",
        "outputId": "1a14a981-fae3-4ed4-e06c-80854e58f92e"
      },
      "execution_count": null,
      "outputs": [
        {
          "output_type": "execute_result",
          "data": {
            "text/plain": [
              "(731784, 19)"
            ]
          },
          "metadata": {},
          "execution_count": 6
        }
      ]
    },
    {
      "cell_type": "markdown",
      "source": [
        "**What is Pod Position? Does the Pod position number affect the amount spent on Ads for a specific period of time by a company? (Explain in Details with examples from the dataset provided)**"
      ],
      "metadata": {
        "id": "Az5413njzCd8"
      }
    },
    {
      "cell_type": "code",
      "source": [
        "spend_pod_position_brand=xyz_df.groupby([\"Brand\",\"Pod Position\"]).sum()['Spend ($)']\n",
        "spend_pod_position_brand"
      ],
      "metadata": {
        "colab": {
          "base_uri": "https://localhost:8080/"
        },
        "id": "DHkF3ECJjbnl",
        "outputId": "d10f4986-0c65-4a2d-cbd0-4e85a1345cfc"
      },
      "execution_count": null,
      "outputs": [
        {
          "output_type": "execute_result",
          "data": {
            "text/plain": [
              "Brand       Pod Position\n",
              "Honda Cars  1               7454554\n",
              "            2               7155792\n",
              "            3               6667803\n",
              "            4               6096237\n",
              "            5               4450668\n",
              "                             ...   \n",
              "Toyota      23                17390\n",
              "            24                  868\n",
              "            25                 2186\n",
              "            26                 1021\n",
              "            27                  947\n",
              "Name: Spend ($), Length: 172, dtype: int64"
            ]
          },
          "metadata": {},
          "execution_count": 7
        }
      ]
    },
    {
      "cell_type": "code",
      "source": [
        "plt.figure(figsize=([20,10]))\n",
        "spend_pod_position_brand.unstack().plot.bar(width=1.8)\n",
        "plt.xlabel(\"Brand\")\n",
        "plt.ylabel(\"Sum of Spend\")\n",
        "plt.legend(title=\"Pod Position\",loc='upper left',bbox_to_anchor=(1.05,1.0))\n",
        "plt.show()"
      ],
      "metadata": {
        "colab": {
          "base_uri": "https://localhost:8080/",
          "height": 547
        },
        "id": "Hid-IqRnkEKH",
        "outputId": "223304c8-1243-4b62-95f3-5fc9773364aa"
      },
      "execution_count": null,
      "outputs": [
        {
          "output_type": "display_data",
          "data": {
            "text/plain": [
              "<Figure size 1440x720 with 0 Axes>"
            ]
          },
          "metadata": {}
        },
        {
          "output_type": "display_data",
          "data": {
            "text/plain": [
              "<Figure size 432x288 with 1 Axes>"
            ],
            "image/png": "[encoded data removed]"
          },
          "metadata": {
            "needs_background": "light"
          }
        }
      ]
    },
    {
      "cell_type": "markdown",
      "source": [
        "**Insights:** <br>\n",
        "From the above graph we can see that lesser the pod position higher is the amount spent by the company for airing.\n",
        "Therefore we can conclude that pod position affects the amount spent on ads for a specific period of time by the company."
      ],
      "metadata": {
        "id": "fhUqfCASDpyt"
      }
    },
    {
      "cell_type": "markdown",
      "source": [
        "**What is the share of various brands in TV airings and how has it changed from Q1 to Q4 in 2021?**"
      ],
      "metadata": {
        "id": "gY_r9hlGzR7K"
      }
    },
    {
      "cell_type": "code",
      "source": [
        "#Creating the column Quarter\n",
        "conditions=[(xyz_df['Broadcast Month']==\"JAN\") | (xyz_df['Broadcast Month']==\"FEB\") | (xyz_df['Broadcast Month']==\"MAR\"),\n",
        "            (xyz_df['Broadcast Month']==\"APR\") | (xyz_df['Broadcast Month']==\"MAY\") | (xyz_df['Broadcast Month']==\"JUN\"),\n",
        "            (xyz_df['Broadcast Month']==\"JUL\") | (xyz_df['Broadcast Month']==\"AUG\") | (xyz_df['Broadcast Month']==\"SEP\"),\n",
        "            (xyz_df['Broadcast Month']==\"OCT\") | (xyz_df['Broadcast Month']==\"NOV\") | (xyz_df['Broadcast Month']==\"DEC\")\n",
        "            ]\n",
        "results=[\"Q1\",\"Q2\",\"Q3\",\"Q4\"]\n",
        "\n",
        "xyz_df['Quarter']=np.select(conditions,results)"
      ],
      "metadata": {
        "id": "RvMklK_FggOC"
      },
      "execution_count": null,
      "outputs": []
    },
    {
      "cell_type": "code",
      "source": [
        "xyz_df.head()"
      ],
      "metadata": {
        "colab": {
          "base_uri": "https://localhost:8080/",
          "height": 441
        },
        "id": "-uXmwdIutlKs",
        "outputId": "1fbefbf5-9c77-47a3-b3a6-d2bdf7ca631f"
      },
      "execution_count": null,
      "outputs": [
        {
          "output_type": "execute_result",
          "data": {
            "text/plain": [
              "        Id                 Brand               Product  Network Network Type  \\\n",
              "0  1000001            Honda Cars            Honda Jazz  N-10079        cable   \n",
              "1  1000002         Maruti Suzuki  Maruti Suzuki Baleno  N-10096        cable   \n",
              "2  1000003         Maruti Suzuki    Maruti Suzuki Ciaz  N-10044        cable   \n",
              "3  1000004         Maruti Suzuki    Maruti Suzuki Ciaz  N-10060        cable   \n",
              "4  1000005  Hyundai Motors India           Hyundai I20  N-10123        cable   \n",
              "\n",
              "      Show        Date         Time  Pod Position       Dayparts  Duration  \\\n",
              "0  S-16736  01/10/2021  10:19:08 PM             1     PRIME TIME        30   \n",
              "1  S-17450  01/16/2021   7:28:13 PM             3        WEEKEND        30   \n",
              "2  S-12299  01/05/2021   1:09:26 PM             2        DAYTIME        30   \n",
              "3  S-14354  01/06/2021   8:55:49 AM             1  EARLY MORNING        30   \n",
              "4  S-15146  01/02/2021  11:07:43 PM             2    LATE FRINGE        30   \n",
              "\n",
              "   EQ Units  Spend ($)  Broadcast Year Broadcast Month  Broadcast Week  \\\n",
              "0       1.0        178            2021             JAN               2   \n",
              "1       1.0        514            2021             JAN               3   \n",
              "2       1.0       2313            2021             JAN               2   \n",
              "3       1.0        308            2021             JAN               2   \n",
              "4       1.0       1885            2021             JAN               1   \n",
              "\n",
              "   Day Of Week  Hour Of Day         TimeZone Quarter  \n",
              "0            7           22  Northeast India      Q1  \n",
              "1            6           19  Northeast India      Q1  \n",
              "2            2           13  Northeast India      Q1  \n",
              "3            3            8  Northeast India      Q1  \n",
              "4            6           23  Northeast India      Q1  "
            ],
            "text/html": [
              "\n",
              "  <div id=\"df-89012ae3-c516-460c-83bf-2cdc007b1201\">\n",
              "    <div class=\"colab-df-container\">\n",
              "      <div>\n",
              "<style scoped>\n",
              "    .dataframe tbody tr th:only-of-type {\n",
              "        vertical-align: middle;\n",
              "    }\n",
              "\n",
              "    .dataframe tbody tr th {\n",
              "        vertical-align: top;\n",
              "    }\n",
              "\n",
              "    .dataframe thead th {\n",
              "        text-align: right;\n",
              "    }\n",
              "</style>\n",
              "<table border=\"1\" class=\"dataframe\">\n",
              "  <thead>\n",
              "    <tr style=\"text-align: right;\">\n",
              "      <th></th>\n",
              "      <th>Id</th>\n",
              "      <th>Brand</th>\n",
              "      <th>Product</th>\n",
              "      <th>Network</th>\n",
              "      <th>Network Type</th>\n",
              "      <th>Show</th>\n",
              "      <th>Date</th>\n",
              "      <th>Time</th>\n",
              "      <th>Pod Position</th>\n",
              "      <th>Dayparts</th>\n",
              "      <th>Duration</th>\n",
              "      <th>EQ Units</th>\n",
              "      <th>Spend ($)</th>\n",
              "      <th>Broadcast Year</th>\n",
              "      <th>Broadcast Month</th>\n",
              "      <th>Broadcast Week</th>\n",
              "      <th>Day Of Week</th>\n",
              "      <th>Hour Of Day</th>\n",
              "      <th>TimeZone</th>\n",
              "      <th>Quarter</th>\n",
              "    </tr>\n",
              "  </thead>\n",
              "  <tbody>\n",
              "    <tr>\n",
              "      <th>0</th>\n",
              "      <td>1000001</td>\n",
              "      <td>Honda Cars</td>\n",
              "      <td>Honda Jazz</td>\n",
              "      <td>N-10079</td>\n",
              "      <td>cable</td>\n",
              "      <td>S-16736</td>\n",
              "      <td>01/10/2021</td>\n",
              "      <td>10:19:08 PM</td>\n",
              "      <td>1</td>\n",
              "      <td>PRIME TIME</td>\n",
              "      <td>30</td>\n",
              "      <td>1.0</td>\n",
              "      <td>178</td>\n",
              "      <td>2021</td>\n",
              "      <td>JAN</td>\n",
              "      <td>2</td>\n",
              "      <td>7</td>\n",
              "      <td>22</td>\n",
              "      <td>Northeast India</td>\n",
              "      <td>Q1</td>\n",
              "    </tr>\n",
              "    <tr>\n",
              "      <th>1</th>\n",
              "      <td>1000002</td>\n",
              "      <td>Maruti Suzuki</td>\n",
              "      <td>Maruti Suzuki Baleno</td>\n",
              "      <td>N-10096</td>\n",
              "      <td>cable</td>\n",
              "      <td>S-17450</td>\n",
              "      <td>01/16/2021</td>\n",
              "      <td>7:28:13 PM</td>\n",
              "      <td>3</td>\n",
              "      <td>WEEKEND</td>\n",
              "      <td>30</td>\n",
              "      <td>1.0</td>\n",
              "      <td>514</td>\n",
              "      <td>2021</td>\n",
              "      <td>JAN</td>\n",
              "      <td>3</td>\n",
              "      <td>6</td>\n",
              "      <td>19</td>\n",
              "      <td>Northeast India</td>\n",
              "      <td>Q1</td>\n",
              "    </tr>\n",
              "    <tr>\n",
              "      <th>2</th>\n",
              "      <td>1000003</td>\n",
              "      <td>Maruti Suzuki</td>\n",
              "      <td>Maruti Suzuki Ciaz</td>\n",
              "      <td>N-10044</td>\n",
              "      <td>cable</td>\n",
              "      <td>S-12299</td>\n",
              "      <td>01/05/2021</td>\n",
              "      <td>1:09:26 PM</td>\n",
              "      <td>2</td>\n",
              "      <td>DAYTIME</td>\n",
              "      <td>30</td>\n",
              "      <td>1.0</td>\n",
              "      <td>2313</td>\n",
              "      <td>2021</td>\n",
              "      <td>JAN</td>\n",
              "      <td>2</td>\n",
              "      <td>2</td>\n",
              "      <td>13</td>\n",
              "      <td>Northeast India</td>\n",
              "      <td>Q1</td>\n",
              "    </tr>\n",
              "    <tr>\n",
              "      <th>3</th>\n",
              "      <td>1000004</td>\n",
              "      <td>Maruti Suzuki</td>\n",
              "      <td>Maruti Suzuki Ciaz</td>\n",
              "      <td>N-10060</td>\n",
              "      <td>cable</td>\n",
              "      <td>S-14354</td>\n",
              "      <td>01/06/2021</td>\n",
              "      <td>8:55:49 AM</td>\n",
              "      <td>1</td>\n",
              "      <td>EARLY MORNING</td>\n",
              "      <td>30</td>\n",
              "      <td>1.0</td>\n",
              "      <td>308</td>\n",
              "      <td>2021</td>\n",
              "      <td>JAN</td>\n",
              "      <td>2</td>\n",
              "      <td>3</td>\n",
              "      <td>8</td>\n",
              "      <td>Northeast India</td>\n",
              "      <td>Q1</td>\n",
              "    </tr>\n",
              "    <tr>\n",
              "      <th>4</th>\n",
              "      <td>1000005</td>\n",
              "      <td>Hyundai Motors India</td>\n",
              "      <td>Hyundai I20</td>\n",
              "      <td>N-10123</td>\n",
              "      <td>cable</td>\n",
              "      <td>S-15146</td>\n",
              "      <td>01/02/2021</td>\n",
              "      <td>11:07:43 PM</td>\n",
              "      <td>2</td>\n",
              "      <td>LATE FRINGE</td>\n",
              "      <td>30</td>\n",
              "      <td>1.0</td>\n",
              "      <td>1885</td>\n",
              "      <td>2021</td>\n",
              "      <td>JAN</td>\n",
              "      <td>1</td>\n",
              "      <td>6</td>\n",
              "      <td>23</td>\n",
              "      <td>Northeast India</td>\n",
              "      <td>Q1</td>\n",
              "    </tr>\n",
              "  </tbody>\n",
              "</table>\n",
              "</div>\n",
              "      <button class=\"colab-df-convert\" onclick=\"convertToInteractive('df-89012ae3-c516-460c-83bf-2cdc007b1201')\"\n",
              "              title=\"Convert this dataframe to an interactive table.\"\n",
              "              style=\"display:none;\">\n",
              "        \n",
              "  <svg xmlns=\"http://www.w3.org/2000/svg\" height=\"24px\"viewBox=\"0 0 24 24\"\n",
              "       width=\"24px\">\n",
              "    <path d=\"M0 0h24v24H0V0z\" fill=\"none\"/>\n",
              "    <path d=\"M18.56 5.44l.94 2.06.94-2.06 2.06-.94-2.06-.94-.94-2.06-.94 2.06-2.06.94zm-11 1L8.5 8.5l.94-2.06 2.06-.94-2.06-.94L8.5 2.5l-.94 2.06-2.06.94zm10 10l.94 2.06.94-2.06 2.06-.94-2.06-.94-.94-2.06-.94 2.06-2.06.94z\"/><path d=\"M17.41 7.96l-1.37-1.37c-.4-.4-.92-.59-1.43-.59-.52 0-1.04.2-1.43.59L10.3 9.45l-7.72 7.72c-.78.78-.78 2.05 0 2.83L4 21.41c.39.39.9.59 1.41.59.51 0 1.02-.2 1.41-.59l7.78-7.78 2.81-2.81c.8-.78.8-2.07 0-2.86zM5.41 20L4 18.59l7.72-7.72 1.47 1.35L5.41 20z\"/>\n",
              "  </svg>\n",
              "      </button>\n",
              "      \n",
              "  <style>\n",
              "    .colab-df-container {\n",
              "      display:flex;\n",
              "      flex-wrap:wrap;\n",
              "      gap: 12px;\n",
              "    }\n",
              "\n",
              "    .colab-df-convert {\n",
              "      background-color: #E8F0FE;\n",
              "      border: none;\n",
              "      border-radius: 50%;\n",
              "      cursor: pointer;\n",
              "      display: none;\n",
              "      fill: #1967D2;\n",
              "      height: 32px;\n",
              "      padding: 0 0 0 0;\n",
              "      width: 32px;\n",
              "    }\n",
              "\n",
              "    .colab-df-convert:hover {\n",
              "      background-color: #E2EBFA;\n",
              "      box-shadow: 0px 1px 2px rgba(60, 64, 67, 0.3), 0px 1px 3px 1px rgba(60, 64, 67, 0.15);\n",
              "      fill: #174EA6;\n",
              "    }\n",
              "\n",
              "    [theme=dark] .colab-df-convert {\n",
              "      background-color: #3B4455;\n",
              "      fill: #D2E3FC;\n",
              "    }\n",
              "\n",
              "    [theme=dark] .colab-df-convert:hover {\n",
              "      background-color: #434B5C;\n",
              "      box-shadow: 0px 1px 3px 1px rgba(0, 0, 0, 0.15);\n",
              "      filter: drop-shadow(0px 1px 2px rgba(0, 0, 0, 0.3));\n",
              "      fill: #FFFFFF;\n",
              "    }\n",
              "  </style>\n",
              "\n",
              "      <script>\n",
              "        const buttonEl =\n",
              "          document.querySelector('#df-89012ae3-c516-460c-83bf-2cdc007b1201 button.colab-df-convert');\n",
              "        buttonEl.style.display =\n",
              "          google.colab.kernel.accessAllowed ? 'block' : 'none';\n",
              "\n",
              "        async function convertToInteractive(key) {\n",
              "          const element = document.querySelector('#df-89012ae3-c516-460c-83bf-2cdc007b1201');\n",
              "          const dataTable =\n",
              "            await google.colab.kernel.invokeFunction('convertToInteractive',\n",
              "                                                     [key], {});\n",
              "          if (!dataTable) return;\n",
              "\n",
              "          const docLinkHtml = 'Like what you see? Visit the ' +\n",
              "            '<a target=\"_blank\" href=https://colab.research.google.com/notebooks/data_table.ipynb>data table notebook</a>'\n",
              "            + ' to learn more about interactive tables.';\n",
              "          element.innerHTML = '';\n",
              "          dataTable['output_type'] = 'display_data';\n",
              "          await google.colab.output.renderOutput(dataTable, element);\n",
              "          const docLink = document.createElement('div');\n",
              "          docLink.innerHTML = docLinkHtml;\n",
              "          element.appendChild(docLink);\n",
              "        }\n",
              "      </script>\n",
              "    </div>\n",
              "  </div>\n",
              "  "
            ]
          },
          "metadata": {},
          "execution_count": 10
        }
      ]
    },
    {
      "cell_type": "code",
      "source": [
        "quarterly_share=xyz_df.groupby([\"Brand\",\"Quarter\"]).Id.count()*100/731784"
      ],
      "metadata": {
        "id": "5W5cJWF7uf4z"
      },
      "execution_count": null,
      "outputs": []
    },
    {
      "cell_type": "code",
      "source": [
        "quarterly_share"
      ],
      "metadata": {
        "colab": {
          "base_uri": "https://localhost:8080/"
        },
        "id": "ZQTJIf56vEFG",
        "outputId": "14f9ba1e-ef96-4e0d-ac8d-e1baf2ea6e6c"
      },
      "execution_count": null,
      "outputs": [
        {
          "output_type": "execute_result",
          "data": {
            "text/plain": [
              "Brand                  Quarter\n",
              "Honda Cars             Q1          3.667612\n",
              "                       Q2          2.562368\n",
              "                       Q3          3.204498\n",
              "                       Q4          2.217184\n",
              "Hyundai Motors India   Q1          3.088343\n",
              "                       Q2          2.580953\n",
              "                       Q3          2.260640\n",
              "                       Q4          1.812830\n",
              "Mahindra and Mahindra  Q1          5.810731\n",
              "                       Q2          6.297487\n",
              "                       Q3          5.437124\n",
              "                       Q4          2.664174\n",
              "Maruti Suzuki          Q1         11.430695\n",
              "                       Q2          9.788681\n",
              "                       Q3          9.012359\n",
              "                       Q4          8.068364\n",
              "Tata Motors            Q1          2.983941\n",
              "                       Q2          1.999634\n",
              "                       Q3          1.981322\n",
              "                       Q4          4.109546\n",
              "Toyota                 Q1          2.494042\n",
              "                       Q2          3.003755\n",
              "                       Q3          2.763794\n",
              "                       Q4          0.759924\n",
              "Name: Id, dtype: float64"
            ]
          },
          "metadata": {},
          "execution_count": 12
        }
      ]
    },
    {
      "cell_type": "code",
      "source": [
        "plt.figure(figsize=([20,10]))\n",
        "quarterly_share.unstack().plot.bar()\n",
        "plt.title(\"Quarterly Share of Ads - count of Id\")\n",
        "plt.xlabel(\"Brands\")\n",
        "plt.ylabel(\"Share %\")\n",
        "plt.legend(title=\"Quarter\",loc=\"upper right\")\n",
        "plt.show()"
      ],
      "metadata": {
        "colab": {
          "base_uri": "https://localhost:8080/",
          "height": 421
        },
        "id": "ZvLzBRLGvN6t",
        "outputId": "128d28b5-0635-40d1-b3ca-47264e126b06"
      },
      "execution_count": null,
      "outputs": [
        {
          "output_type": "display_data",
          "data": {
            "text/plain": [
              "<Figure size 1440x720 with 0 Axes>"
            ]
          },
          "metadata": {}
        },
        {
          "output_type": "display_data",
          "data": {
            "text/plain": [
              "<Figure size 432x288 with 1 Axes>"
            ],
            "image/png": "[encoded data removed]"
          },
          "metadata": {
            "needs_background": "light"
          }
        }
      ]
    },
    {
      "cell_type": "markdown",
      "source": [
        "**Insights:**<br>\n",
        "- Maruti Suzuki has the highest number of ads and so the share.\n",
        "- The count of ads has decreased drastically in Q4 for Mahindra and Mahindra and Toyota.\n",
        "- For Tata Motors the number of ads has increased in Q4.\n"
      ],
      "metadata": {
        "id": "ZCLSrLWpMynF"
      }
    },
    {
      "cell_type": "code",
      "source": [
        "quarterly_amt_spent=xyz_df.groupby([\"Brand\",\"Quarter\"]).sum()['Spend ($)']"
      ],
      "metadata": {
        "id": "-SIaN5LlxChv"
      },
      "execution_count": null,
      "outputs": []
    },
    {
      "cell_type": "code",
      "source": [
        "quarterly_amt_spent"
      ],
      "metadata": {
        "colab": {
          "base_uri": "https://localhost:8080/"
        },
        "id": "hJkYv-Zbxw7Y",
        "outputId": "eab0e178-3fa4-4546-be85-8a3e0b813a4e"
      },
      "execution_count": null,
      "outputs": [
        {
          "output_type": "execute_result",
          "data": {
            "text/plain": [
              "Brand                  Quarter\n",
              "Honda Cars             Q1          17641924\n",
              "                       Q2           9172658\n",
              "                       Q3          12346531\n",
              "                       Q4           9097227\n",
              "Hyundai Motors India   Q1          63300421\n",
              "                       Q2          40636071\n",
              "                       Q3          39735684\n",
              "                       Q4          37136580\n",
              "Mahindra and Mahindra  Q1         128387916\n",
              "                       Q2         100185793\n",
              "                       Q3          95530787\n",
              "                       Q4          73201159\n",
              "Maruti Suzuki          Q1         187686495\n",
              "                       Q2         129020356\n",
              "                       Q3         125130088\n",
              "                       Q4         116809533\n",
              "Tata Motors            Q1          27525724\n",
              "                       Q2          16268034\n",
              "                       Q3          14931630\n",
              "                       Q4          36064839\n",
              "Toyota                 Q1          40137985\n",
              "                       Q2          29617351\n",
              "                       Q3          28897797\n",
              "                       Q4          13999979\n",
              "Name: Spend ($), dtype: int64"
            ]
          },
          "metadata": {},
          "execution_count": 15
        }
      ]
    },
    {
      "cell_type": "code",
      "source": [
        "plt.figure(figsize=([20,10]))\n",
        "quarterly_amt_spent.unstack().plot.bar()\n",
        "plt.title(\"Quarterly sum spent\")\n",
        "plt.xlabel(\"Brands\")\n",
        "plt.ylabel(\"Sum Spent\")\n",
        "plt.legend(title=\"Quarter\",loc=\"upper right\")\n",
        "plt.show()"
      ],
      "metadata": {
        "id": "h0w1bprlyCS8",
        "colab": {
          "base_uri": "https://localhost:8080/",
          "height": 421
        },
        "outputId": "3af0082a-3c86-4d74-bda3-fed81d06e6bc"
      },
      "execution_count": null,
      "outputs": [
        {
          "output_type": "display_data",
          "data": {
            "text/plain": [
              "<Figure size 1440x720 with 0 Axes>"
            ]
          },
          "metadata": {}
        },
        {
          "output_type": "display_data",
          "data": {
            "text/plain": [
              "<Figure size 432x288 with 1 Axes>"
            ],
            "image/png": "[encoded data removed]"
          },
          "metadata": {
            "needs_background": "light"
          }
        }
      ]
    },
    {
      "cell_type": "markdown",
      "source": [
        "**Insights:**<br>\n",
        "- Maruti Suzuki has spent the highest for ads airings followed by Mahindra and Mahindra.\n",
        "- Honda Cars has spent the least amount for ads airings.\n",
        "- The amount spent by Tata motors has slightly decreased in Q2 and Q3, but has increased in Q4.\n",
        "- Mahindra and Mahindra, Maruti Suzuki, Hyundai and Toyota have spent the highest in Q1 which slightly decreases for the rest of the year.\n",
        "\n",
        "\n"
      ],
      "metadata": {
        "id": "n4vn3Vf1JiIy"
      }
    },
    {
      "cell_type": "markdown",
      "source": [
        "**Conduct a competitive analysis for the brands and define advertisement strategy of different brands and how it differs across the brands.**"
      ],
      "metadata": {
        "id": "Q1jlKYDkyldY"
      }
    },
    {
      "cell_type": "code",
      "source": [
        "Dayparts_amt_spent=xyz_df.groupby([\"Brand\",\"Dayparts\"]).sum()['Spend ($)']"
      ],
      "metadata": {
        "id": "8cXYFmHFEyEK"
      },
      "execution_count": null,
      "outputs": []
    },
    {
      "cell_type": "code",
      "source": [
        "Dayparts_amt_spent"
      ],
      "metadata": {
        "colab": {
          "base_uri": "https://localhost:8080/"
        },
        "id": "T_UUwI7SFFk4",
        "outputId": "2f20e0c4-c6bf-43ec-c4c5-fedb2b6a557d"
      },
      "execution_count": null,
      "outputs": [
        {
          "output_type": "execute_result",
          "data": {
            "text/plain": [
              "Brand                  Dayparts     \n",
              "Honda Cars             DAYTIME           15106799\n",
              "                       EARLY FRINGE       5763471\n",
              "                       EARLY MORNING      5190376\n",
              "                       EVENING NEWS       2105762\n",
              "                       LATE FRINGE        3421197\n",
              "                       OVERNIGHT          2820096\n",
              "                       PRIME ACCESS       1352961\n",
              "                       PRIME TIME         7002902\n",
              "                       WEEKEND            5494776\n",
              "Hyundai Motors India   DAYTIME           12360920\n",
              "                       EARLY FRINGE       7156835\n",
              "                       EARLY MORNING      8708318\n",
              "                       EVENING NEWS       5364194\n",
              "                       LATE FRINGE       13648569\n",
              "                       OVERNIGHT          3181379\n",
              "                       PRIME ACCESS       7711727\n",
              "                       PRIME TIME        86737738\n",
              "                       WEEKEND           35939076\n",
              "Mahindra and Mahindra  DAYTIME           64154402\n",
              "                       EARLY FRINGE      19204408\n",
              "                       EARLY MORNING     12119383\n",
              "                       EVENING NEWS      16018235\n",
              "                       LATE FRINGE       41781609\n",
              "                       OVERNIGHT          8597788\n",
              "                       PRIME ACCESS      10299276\n",
              "                       PRIME TIME       152713257\n",
              "                       WEEKEND           72417297\n",
              "Maruti Suzuki          DAYTIME           48678486\n",
              "                       EARLY FRINGE      22745305\n",
              "                       EARLY MORNING     28920899\n",
              "                       EVENING NEWS      20776891\n",
              "                       LATE FRINGE       74069950\n",
              "                       OVERNIGHT         23614157\n",
              "                       PRIME ACCESS      29021227\n",
              "                       PRIME TIME       213609797\n",
              "                       WEEKEND           97209760\n",
              "Tata Motors            DAYTIME           16513542\n",
              "                       EARLY FRINGE       6058611\n",
              "                       EARLY MORNING      7110565\n",
              "                       EVENING NEWS       5829272\n",
              "                       LATE FRINGE       11161135\n",
              "                       OVERNIGHT          2552537\n",
              "                       PRIME ACCESS       5799904\n",
              "                       PRIME TIME        25652452\n",
              "                       WEEKEND           14112209\n",
              "Toyota                 DAYTIME           18560894\n",
              "                       EARLY FRINGE       9744570\n",
              "                       EARLY MORNING      8294798\n",
              "                       EVENING NEWS       5409054\n",
              "                       LATE FRINGE        8863807\n",
              "                       OVERNIGHT          1716154\n",
              "                       PRIME ACCESS       8979945\n",
              "                       PRIME TIME        24146575\n",
              "                       WEEKEND           26937315\n",
              "Name: Spend ($), dtype: int64"
            ]
          },
          "metadata": {},
          "execution_count": 18
        }
      ]
    },
    {
      "cell_type": "code",
      "source": [
        "plt.figure(figsize=([20,10]))\n",
        "Dayparts_amt_spent.unstack().plot.bar()\n",
        "plt.title(\"Sum spent w.r.t dayparts\")\n",
        "plt.xlabel(\"Brands\")\n",
        "plt.ylabel(\"Sum spent\")\n",
        "plt.legend(title=\"Dayparts\",loc=\"upper left\",bbox_to_anchor=(1.05,1.0))\n",
        "plt.show()"
      ],
      "metadata": {
        "colab": {
          "base_uri": "https://localhost:8080/",
          "height": 421
        },
        "id": "guhjk96yFI9s",
        "outputId": "c771ab2a-4496-4bf1-c181-b60e422a9ada"
      },
      "execution_count": null,
      "outputs": [
        {
          "output_type": "display_data",
          "data": {
            "text/plain": [
              "<Figure size 1440x720 with 0 Axes>"
            ]
          },
          "metadata": {}
        },
        {
          "output_type": "display_data",
          "data": {
            "text/plain": [
              "<Figure size 432x288 with 1 Axes>"
            ],
            "image/png": "[encoded data removed]"
          },
          "metadata": {
            "needs_background": "light"
          }
        }
      ]
    },
    {
      "cell_type": "markdown",
      "source": [
        "**Insights:**<br>\n",
        "- Honda Cars has spent most on daytime.\n",
        "- Hyundai, Mahindra and Mahindra, Maruti Suzuki and Tata motors have spent most of their money for Prime time with Maruti Suzuki being the highest.\n",
        "- Toyota has spent most of its money for airing the ads on weekend followed by Primetime."
      ],
      "metadata": {
        "id": "WUu79pMvdRWf"
      }
    },
    {
      "cell_type": "code",
      "source": [
        "Dayparts_cnt_spent=xyz_df.groupby([\"Brand\",\"Dayparts\"]).count()['Id']"
      ],
      "metadata": {
        "id": "17tiJzx7GrxU"
      },
      "execution_count": null,
      "outputs": []
    },
    {
      "cell_type": "code",
      "source": [
        "Dayparts_cnt_spent"
      ],
      "metadata": {
        "colab": {
          "base_uri": "https://localhost:8080/"
        },
        "id": "BpGiNdqyGx3O",
        "outputId": "24eee5b0-877b-4417-aeaf-d0111a031e23"
      },
      "execution_count": null,
      "outputs": [
        {
          "output_type": "execute_result",
          "data": {
            "text/plain": [
              "Brand                  Dayparts     \n",
              "Honda Cars             DAYTIME          28031\n",
              "                       EARLY FRINGE      7056\n",
              "                       EARLY MORNING    14877\n",
              "                       EVENING NEWS      3067\n",
              "                       LATE FRINGE       6168\n",
              "                       OVERNIGHT         5714\n",
              "                       PRIME ACCESS      1903\n",
              "                       PRIME TIME        8391\n",
              "                       WEEKEND          10058\n",
              "Hyundai Motors India   DAYTIME          12485\n",
              "                       EARLY FRINGE      4367\n",
              "                       EARLY MORNING     8153\n",
              "                       EVENING NEWS      2411\n",
              "                       LATE FRINGE      10214\n",
              "                       OVERNIGHT         6621\n",
              "                       PRIME ACCESS      2970\n",
              "                       PRIME TIME       13508\n",
              "                       WEEKEND          10567\n",
              "Mahindra and Mahindra  DAYTIME          33552\n",
              "                       EARLY FRINGE      9335\n",
              "                       EARLY MORNING    13999\n",
              "                       EVENING NEWS      4549\n",
              "                       LATE FRINGE      24468\n",
              "                       OVERNIGHT         6480\n",
              "                       PRIME ACCESS      4038\n",
              "                       PRIME TIME       28302\n",
              "                       WEEKEND          23167\n",
              "Maruti Suzuki          DAYTIME          49811\n",
              "                       EARLY FRINGE     17124\n",
              "                       EARLY MORNING    35078\n",
              "                       EVENING NEWS      9968\n",
              "                       LATE FRINGE      45224\n",
              "                       OVERNIGHT        27224\n",
              "                       PRIME ACCESS      9473\n",
              "                       PRIME TIME       47738\n",
              "                       WEEKEND          38634\n",
              "Tata Motors            DAYTIME          17745\n",
              "                       EARLY FRINGE      5346\n",
              "                       EARLY MORNING     9226\n",
              "                       EVENING NEWS      3007\n",
              "                       LATE FRINGE      11137\n",
              "                       OVERNIGHT         5819\n",
              "                       PRIME ACCESS      3030\n",
              "                       PRIME TIME       13553\n",
              "                       WEEKEND          12178\n",
              "Toyota                 DAYTIME          17393\n",
              "                       EARLY FRINGE      4611\n",
              "                       EARLY MORNING     8807\n",
              "                       EVENING NEWS      2535\n",
              "                       LATE FRINGE       7716\n",
              "                       OVERNIGHT         3458\n",
              "                       PRIME ACCESS      2353\n",
              "                       PRIME TIME        9204\n",
              "                       WEEKEND           9941\n",
              "Name: Id, dtype: int64"
            ]
          },
          "metadata": {},
          "execution_count": 21
        }
      ]
    },
    {
      "cell_type": "code",
      "source": [
        "plt.figure(figsize=([20,10]))\n",
        "Dayparts_cnt_spent.unstack().plot.bar()\n",
        "plt.title(\"Number of Ads w.r.t Dayparts\")\n",
        "plt.ylabel(\"Count\")\n",
        "plt.xlabel(\"Brands\")\n",
        "plt.legend(title=\"Dayparts\",loc=\"upper left\",bbox_to_anchor=(1.05,1.0))\n",
        "plt.show()"
      ],
      "metadata": {
        "colab": {
          "base_uri": "https://localhost:8080/",
          "height": 421
        },
        "id": "oN2JhV7fGzWH",
        "outputId": "42f9f35a-935f-41b0-c10c-24225c9d7d1c"
      },
      "execution_count": null,
      "outputs": [
        {
          "output_type": "display_data",
          "data": {
            "text/plain": [
              "<Figure size 1440x720 with 0 Axes>"
            ]
          },
          "metadata": {}
        },
        {
          "output_type": "display_data",
          "data": {
            "text/plain": [
              "<Figure size 432x288 with 1 Axes>"
            ],
            "image/png": "[encoded data removed]"
          },
          "metadata": {
            "needs_background": "light"
          }
        }
      ]
    },
    {
      "cell_type": "markdown",
      "source": [
        "**Insights:**<br>\n",
        "- Maruti Suzuki has broadcasted most of its ads in daytime followed by prime time.\n",
        "- Next highest number of ads has been played by Mahindra and Mahindra at daytime followed by prime time.\n",
        "- Almost all the brands have broadcasted the most number of ads at daytime.\n",
        "- Hyundai has telecasted almost similar number of ads at Prime time and daytime.\n",
        "\n",
        "**Conclusion:**<br>\n",
        "Almost all the brands spend most for airing the ads at Prime time and weekend as this is the time when large number of audience are most likely to watch TV. And they also seem to air most number of ads at daytime."
      ],
      "metadata": {
        "id": "8y7kIBwteSIC"
      }
    },
    {
      "cell_type": "markdown",
      "source": [
        "**Mahindra and Mahindra wants to run a digital ad campaign to complement its existing TV ads in Q1 of 2022. Based on the data from 2021, suggest a media plan to the CMO of Mahindra and Mahindra. Which audience should they target? Assume XYZ Ads has the ad viewership data and TV viewership for the people in India.**"
      ],
      "metadata": {
        "id": "wbklnieTyqte"
      }
    },
    {
      "cell_type": "code",
      "source": [
        "avg_duration_brands=xyz_df.groupby([\"Brand\"]).mean()['Duration']"
      ],
      "metadata": {
        "id": "FiDZDAFyys_B"
      },
      "execution_count": null,
      "outputs": []
    },
    {
      "cell_type": "code",
      "source": [
        "avg_duration_brands"
      ],
      "metadata": {
        "colab": {
          "base_uri": "https://localhost:8080/"
        },
        "id": "eOy8B5ySy9LW",
        "outputId": "442d83af-8434-4374-e1ca-3e82170440ef"
      },
      "execution_count": null,
      "outputs": [
        {
          "output_type": "execute_result",
          "data": {
            "text/plain": [
              "Brand\n",
              "Honda Cars               24.720812\n",
              "Hyundai Motors India     23.766130\n",
              "Mahindra and Mahindra    29.621678\n",
              "Maruti Suzuki            29.635500\n",
              "Tata Motors              16.382819\n",
              "Toyota                   26.818671\n",
              "Name: Duration, dtype: float64"
            ]
          },
          "metadata": {},
          "execution_count": 24
        }
      ]
    },
    {
      "cell_type": "code",
      "source": [
        "plt.figure(figsize=([15,8]))\n",
        "avg_duration_brands.plot.bar()\n",
        "plt.title(\"Average Duration of Ads\")\n",
        "plt.ylabel(\"Avg Duration\")\n",
        "plt.xlabel(\"Brands\")\n",
        "plt.show()"
      ],
      "metadata": {
        "colab": {
          "base_uri": "https://localhost:8080/",
          "height": 622
        },
        "id": "co9zxw_NzEch",
        "outputId": "da6f87d9-9dc7-4f52-c29a-911d95ee5737"
      },
      "execution_count": null,
      "outputs": [
        {
          "output_type": "display_data",
          "data": {
            "text/plain": [
              "<Figure size 1080x576 with 1 Axes>"
            ],
            "image/png": "[encoded data removed]"
          },
          "metadata": {
            "needs_background": "light"
          }
        }
      ]
    },
    {
      "cell_type": "markdown",
      "source": [
        "**Insights:**<br>\n",
        "Mahindra and Mahindra and Maruti suzuki have the highest duration of ads."
      ],
      "metadata": {
        "id": "-_q_v48OtWHw"
      }
    },
    {
      "cell_type": "markdown",
      "source": [
        "**Insights:**<br>"
      ],
      "metadata": {
        "id": "MvBApF4BibzR"
      }
    },
    {
      "cell_type": "code",
      "source": [
        "brand_spend_timezone=xyz_df.groupby([\"Brand\",\"TimeZone\"]).mean()['Spend ($)']"
      ],
      "metadata": {
        "id": "8OzMl8qa80kq"
      },
      "execution_count": null,
      "outputs": []
    },
    {
      "cell_type": "code",
      "source": [
        "brand_spend_timezone"
      ],
      "metadata": {
        "colab": {
          "base_uri": "https://localhost:8080/"
        },
        "id": "MXf1QXuM8_m8",
        "outputId": "49f7cf03-d890-4609-c342-d9c266c70902"
      },
      "execution_count": null,
      "outputs": [
        {
          "output_type": "execute_result",
          "data": {
            "text/plain": [
              "Brand                  TimeZone       \n",
              "Honda Cars             Central India        361.910256\n",
              "                       Northeast India      561.408237\n",
              "                       Northern India       209.000000\n",
              "                       Southern India       787.720021\n",
              "Hyundai Motors India   Central India       5585.716981\n",
              "                       Northeast India     2341.558241\n",
              "                       Northern India     17115.230769\n",
              "                       Southern India      9618.737832\n",
              "Mahindra and Mahindra  Central India       4641.268293\n",
              "                       Northeast India     2587.832472\n",
              "                       Northern India      5477.857143\n",
              "                       Southern India      7796.646057\n",
              "Maruti Suzuki          Central India       1395.665653\n",
              "                       Northeast India     1890.129060\n",
              "                       Northern India      9638.902439\n",
              "                       Southern India      5052.030401\n",
              "Tata Motors            Central India        446.045307\n",
              "                       Northeast India     1109.419205\n",
              "                       Northern India      3911.588235\n",
              "                       Southern India      3881.218372\n",
              "Toyota                 Central India       1016.399399\n",
              "                       Northeast India     1619.519079\n",
              "                       Northern India     28209.571429\n",
              "                       Southern India      3563.920986\n",
              "Name: Spend ($), dtype: float64"
            ]
          },
          "metadata": {},
          "execution_count": 27
        }
      ]
    },
    {
      "cell_type": "code",
      "source": [
        "plt.figure(figsize=([20,10]))\n",
        "brand_spend_timezone.unstack().plot.bar()\n",
        "plt.title(\"Average spent in different time zones\")\n",
        "plt.ylabel(\"Count\")\n",
        "plt.xlabel(\"Brands\")\n",
        "plt.legend(title=\"Timezone\",loc=\"upper left\",bbox_to_anchor=(1.05,1.0))\n",
        "plt.show()"
      ],
      "metadata": {
        "colab": {
          "base_uri": "https://localhost:8080/",
          "height": 421
        },
        "id": "c-j15xDg9VDi",
        "outputId": "d2726c53-81e6-49de-a623-9db0b364e29b"
      },
      "execution_count": null,
      "outputs": [
        {
          "output_type": "display_data",
          "data": {
            "text/plain": [
              "<Figure size 1440x720 with 0 Axes>"
            ]
          },
          "metadata": {}
        },
        {
          "output_type": "display_data",
          "data": {
            "text/plain": [
              "<Figure size 432x288 with 1 Axes>"
            ],
            "image/png": "[encoded data removed]"
          },
          "metadata": {
            "needs_background": "light"
          }
        }
      ]
    },
    {
      "cell_type": "markdown",
      "source": [
        "**Insights:**<br>\n",
        "- Majority of the brands have focused more on northern India.\n",
        "- Toyota tops the list by spending the most on the northern part.\n",
        "- Mahindra and Mahindra has spent the most on Southern part followed by the northern part of India.\n"
      ],
      "metadata": {
        "id": "bJrZfQzzvQ83"
      }
    },
    {
      "cell_type": "code",
      "source": [
        "mahindra_Q1=xyz_df.loc[(xyz_df['Brand']==\"Mahindra and Mahindra\") & (xyz_df['Quarter']==\"Q1\")]"
      ],
      "metadata": {
        "id": "NoYf6hgKBOno"
      },
      "execution_count": null,
      "outputs": []
    },
    {
      "cell_type": "code",
      "source": [
        "mahindra_Q1"
      ],
      "metadata": {
        "colab": {
          "base_uri": "https://localhost:8080/",
          "height": 869
        },
        "id": "aJaO--RguBmB",
        "outputId": "19d4cc97-4120-45ff-c680-a99967da0142"
      },
      "execution_count": null,
      "outputs": [
        {
          "output_type": "execute_result",
          "data": {
            "text/plain": [
              "             Id                  Brand            Product  Network  \\\n",
              "23      1000024  Mahindra and Mahindra   Mahindra XUV 700  N-10103   \n",
              "24      1000025  Mahindra and Mahindra  Mahindra New Thar  N-10016   \n",
              "25      1000026  Mahindra and Mahindra   Mahindra XUV 700  N-10010   \n",
              "30      1000031  Mahindra and Mahindra  Mahindra New Thar  N-10058   \n",
              "39      1000040  Mahindra and Mahindra  Mahindra New Thar  N-10099   \n",
              "...         ...                    ...                ...      ...   \n",
              "731652  1731653  Mahindra and Mahindra  Mahindra New Thar  N-10109   \n",
              "731705  1731706  Mahindra and Mahindra  Mahindra New Thar  N-10023   \n",
              "731759  1731760  Mahindra and Mahindra  Mahindra New Thar  N-10092   \n",
              "731766  1731767  Mahindra and Mahindra  Mahindra New Thar  N-10038   \n",
              "731769  1731770  Mahindra and Mahindra  Mahindra New Thar  N-10092   \n",
              "\n",
              "       Network Type     Show        Date         Time  Pod Position  \\\n",
              "23            cable  S-22277  01/01/2021   4:28:54 PM             1   \n",
              "24            cable  S-16132  01/13/2021  12:15:52 PM             2   \n",
              "25            cable  S-22198  01/02/2021   6:52:36 AM             6   \n",
              "30            cable  S-19523  01/02/2021   4:53:16 PM             4   \n",
              "39            cable  S-17876  01/16/2021  11:21:57 AM             7   \n",
              "...             ...      ...         ...          ...           ...   \n",
              "731652        cable  S-13515  12/29/2021   7:31:35 PM             2   \n",
              "731705        cable  S-10943  12/29/2021  10:35:07 PM             4   \n",
              "731759        cable  S-18149  12/30/2021   3:13:47 PM             3   \n",
              "731766        cable  S-12191  12/31/2021   1:16:12 PM             4   \n",
              "731769        cable  S-18149  12/29/2021   4:13:15 PM             3   \n",
              "\n",
              "             Dayparts  Duration  EQ Units  Spend ($)  Broadcast Year  \\\n",
              "23       EARLY FRINGE        20      0.67        417            2021   \n",
              "24            DAYTIME        30      1.00        116            2021   \n",
              "25      EARLY MORNING        20      0.67        151            2021   \n",
              "30            WEEKEND        30      1.00        780            2021   \n",
              "39            WEEKEND        30      1.00       1362            2021   \n",
              "...               ...       ...       ...        ...             ...   \n",
              "731652   PRIME ACCESS        30      1.00        635            2022   \n",
              "731705     PRIME TIME        30      1.00       2536            2022   \n",
              "731759        DAYTIME        30      1.00       2084            2022   \n",
              "731766        DAYTIME        30      1.00      42693            2022   \n",
              "731769   EARLY FRINGE        30      1.00       2176            2022   \n",
              "\n",
              "       Broadcast Month  Broadcast Week  Day Of Week  Hour Of Day  \\\n",
              "23                 JAN               1            5           16   \n",
              "24                 JAN               3            3           12   \n",
              "25                 JAN               1            6            6   \n",
              "30                 JAN               1            6           16   \n",
              "39                 JAN               3            6           11   \n",
              "...                ...             ...          ...          ...   \n",
              "731652             JAN               1            3           19   \n",
              "731705             JAN               1            3           22   \n",
              "731759             JAN               1            4           15   \n",
              "731766             JAN               1            5           13   \n",
              "731769             JAN               1            3           16   \n",
              "\n",
              "               TimeZone Quarter  \n",
              "23      Northeast India      Q1  \n",
              "24      Northeast India      Q1  \n",
              "25      Northeast India      Q1  \n",
              "30      Northeast India      Q1  \n",
              "39      Northeast India      Q1  \n",
              "...                 ...     ...  \n",
              "731652  Northeast India      Q1  \n",
              "731705  Northeast India      Q1  \n",
              "731759  Northeast India      Q1  \n",
              "731766   Southern India      Q1  \n",
              "731769  Northeast India      Q1  \n",
              "\n",
              "[42522 rows x 20 columns]"
            ],
            "text/html": [
              "\n",
              "  <div id=\"df-119c9413-46a0-4d11-9f30-d84f6fc2a6b4\">\n",
              "    <div class=\"colab-df-container\">\n",
              "      <div>\n",
              "<style scoped>\n",
              "    .dataframe tbody tr th:only-of-type {\n",
              "        vertical-align: middle;\n",
              "    }\n",
              "\n",
              "    .dataframe tbody tr th {\n",
              "        vertical-align: top;\n",
              "    }\n",
              "\n",
              "    .dataframe thead th {\n",
              "        text-align: right;\n",
              "    }\n",
              "</style>\n",
              "<table border=\"1\" class=\"dataframe\">\n",
              "  <thead>\n",
              "    <tr style=\"text-align: right;\">\n",
              "      <th></th>\n",
              "      <th>Id</th>\n",
              "      <th>Brand</th>\n",
              "      <th>Product</th>\n",
              "      <th>Network</th>\n",
              "      <th>Network Type</th>\n",
              "      <th>Show</th>\n",
              "      <th>Date</th>\n",
              "      <th>Time</th>\n",
              "      <th>Pod Position</th>\n",
              "      <th>Dayparts</th>\n",
              "      <th>Duration</th>\n",
              "      <th>EQ Units</th>\n",
              "      <th>Spend ($)</th>\n",
              "      <th>Broadcast Year</th>\n",
              "      <th>Broadcast Month</th>\n",
              "      <th>Broadcast Week</th>\n",
              "      <th>Day Of Week</th>\n",
              "      <th>Hour Of Day</th>\n",
              "      <th>TimeZone</th>\n",
              "      <th>Quarter</th>\n",
              "    </tr>\n",
              "  </thead>\n",
              "  <tbody>\n",
              "    <tr>\n",
              "      <th>23</th>\n",
              "      <td>1000024</td>\n",
              "      <td>Mahindra and Mahindra</td>\n",
              "      <td>Mahindra XUV 700</td>\n",
              "      <td>N-10103</td>\n",
              "      <td>cable</td>\n",
              "      <td>S-22277</td>\n",
              "      <td>01/01/2021</td>\n",
              "      <td>4:28:54 PM</td>\n",
              "      <td>1</td>\n",
              "      <td>EARLY FRINGE</td>\n",
              "      <td>20</td>\n",
              "      <td>0.67</td>\n",
              "      <td>417</td>\n",
              "      <td>2021</td>\n",
              "      <td>JAN</td>\n",
              "      <td>1</td>\n",
              "      <td>5</td>\n",
              "      <td>16</td>\n",
              "      <td>Northeast India</td>\n",
              "      <td>Q1</td>\n",
              "    </tr>\n",
              "    <tr>\n",
              "      <th>24</th>\n",
              "      <td>1000025</td>\n",
              "      <td>Mahindra and Mahindra</td>\n",
              "      <td>Mahindra New Thar</td>\n",
              "      <td>N-10016</td>\n",
              "      <td>cable</td>\n",
              "      <td>S-16132</td>\n",
              "      <td>01/13/2021</td>\n",
              "      <td>12:15:52 PM</td>\n",
              "      <td>2</td>\n",
              "      <td>DAYTIME</td>\n",
              "      <td>30</td>\n",
              "      <td>1.00</td>\n",
              "      <td>116</td>\n",
              "      <td>2021</td>\n",
              "      <td>JAN</td>\n",
              "      <td>3</td>\n",
              "      <td>3</td>\n",
              "      <td>12</td>\n",
              "      <td>Northeast India</td>\n",
              "      <td>Q1</td>\n",
              "    </tr>\n",
              "    <tr>\n",
              "      <th>25</th>\n",
              "      <td>1000026</td>\n",
              "      <td>Mahindra and Mahindra</td>\n",
              "      <td>Mahindra XUV 700</td>\n",
              "      <td>N-10010</td>\n",
              "      <td>cable</td>\n",
              "      <td>S-22198</td>\n",
              "      <td>01/02/2021</td>\n",
              "      <td>6:52:36 AM</td>\n",
              "      <td>6</td>\n",
              "      <td>EARLY MORNING</td>\n",
              "      <td>20</td>\n",
              "      <td>0.67</td>\n",
              "      <td>151</td>\n",
              "      <td>2021</td>\n",
              "      <td>JAN</td>\n",
              "      <td>1</td>\n",
              "      <td>6</td>\n",
              "      <td>6</td>\n",
              "      <td>Northeast India</td>\n",
              "      <td>Q1</td>\n",
              "    </tr>\n",
              "    <tr>\n",
              "      <th>30</th>\n",
              "      <td>1000031</td>\n",
              "      <td>Mahindra and Mahindra</td>\n",
              "      <td>Mahindra New Thar</td>\n",
              "      <td>N-10058</td>\n",
              "      <td>cable</td>\n",
              "      <td>S-19523</td>\n",
              "      <td>01/02/2021</td>\n",
              "      <td>4:53:16 PM</td>\n",
              "      <td>4</td>\n",
              "      <td>WEEKEND</td>\n",
              "      <td>30</td>\n",
              "      <td>1.00</td>\n",
              "      <td>780</td>\n",
              "      <td>2021</td>\n",
              "      <td>JAN</td>\n",
              "      <td>1</td>\n",
              "      <td>6</td>\n",
              "      <td>16</td>\n",
              "      <td>Northeast India</td>\n",
              "      <td>Q1</td>\n",
              "    </tr>\n",
              "    <tr>\n",
              "      <th>39</th>\n",
              "      <td>1000040</td>\n",
              "      <td>Mahindra and Mahindra</td>\n",
              "      <td>Mahindra New Thar</td>\n",
              "      <td>N-10099</td>\n",
              "      <td>cable</td>\n",
              "      <td>S-17876</td>\n",
              "      <td>01/16/2021</td>\n",
              "      <td>11:21:57 AM</td>\n",
              "      <td>7</td>\n",
              "      <td>WEEKEND</td>\n",
              "      <td>30</td>\n",
              "      <td>1.00</td>\n",
              "      <td>1362</td>\n",
              "      <td>2021</td>\n",
              "      <td>JAN</td>\n",
              "      <td>3</td>\n",
              "      <td>6</td>\n",
              "      <td>11</td>\n",
              "      <td>Northeast India</td>\n",
              "      <td>Q1</td>\n",
              "    </tr>\n",
              "    <tr>\n",
              "      <th>...</th>\n",
              "      <td>...</td>\n",
              "      <td>...</td>\n",
              "      <td>...</td>\n",
              "      <td>...</td>\n",
              "      <td>...</td>\n",
              "      <td>...</td>\n",
              "      <td>...</td>\n",
              "      <td>...</td>\n",
              "      <td>...</td>\n",
              "      <td>...</td>\n",
              "      <td>...</td>\n",
              "      <td>...</td>\n",
              "      <td>...</td>\n",
              "      <td>...</td>\n",
              "      <td>...</td>\n",
              "      <td>...</td>\n",
              "      <td>...</td>\n",
              "      <td>...</td>\n",
              "      <td>...</td>\n",
              "      <td>...</td>\n",
              "    </tr>\n",
              "    <tr>\n",
              "      <th>731652</th>\n",
              "      <td>1731653</td>\n",
              "      <td>Mahindra and Mahindra</td>\n",
              "      <td>Mahindra New Thar</td>\n",
              "      <td>N-10109</td>\n",
              "      <td>cable</td>\n",
              "      <td>S-13515</td>\n",
              "      <td>12/29/2021</td>\n",
              "      <td>7:31:35 PM</td>\n",
              "      <td>2</td>\n",
              "      <td>PRIME ACCESS</td>\n",
              "      <td>30</td>\n",
              "      <td>1.00</td>\n",
              "      <td>635</td>\n",
              "      <td>2022</td>\n",
              "      <td>JAN</td>\n",
              "      <td>1</td>\n",
              "      <td>3</td>\n",
              "      <td>19</td>\n",
              "      <td>Northeast India</td>\n",
              "      <td>Q1</td>\n",
              "    </tr>\n",
              "    <tr>\n",
              "      <th>731705</th>\n",
              "      <td>1731706</td>\n",
              "      <td>Mahindra and Mahindra</td>\n",
              "      <td>Mahindra New Thar</td>\n",
              "      <td>N-10023</td>\n",
              "      <td>cable</td>\n",
              "      <td>S-10943</td>\n",
              "      <td>12/29/2021</td>\n",
              "      <td>10:35:07 PM</td>\n",
              "      <td>4</td>\n",
              "      <td>PRIME TIME</td>\n",
              "      <td>30</td>\n",
              "      <td>1.00</td>\n",
              "      <td>2536</td>\n",
              "      <td>2022</td>\n",
              "      <td>JAN</td>\n",
              "      <td>1</td>\n",
              "      <td>3</td>\n",
              "      <td>22</td>\n",
              "      <td>Northeast India</td>\n",
              "      <td>Q1</td>\n",
              "    </tr>\n",
              "    <tr>\n",
              "      <th>731759</th>\n",
              "      <td>1731760</td>\n",
              "      <td>Mahindra and Mahindra</td>\n",
              "      <td>Mahindra New Thar</td>\n",
              "      <td>N-10092</td>\n",
              "      <td>cable</td>\n",
              "      <td>S-18149</td>\n",
              "      <td>12/30/2021</td>\n",
              "      <td>3:13:47 PM</td>\n",
              "      <td>3</td>\n",
              "      <td>DAYTIME</td>\n",
              "      <td>30</td>\n",
              "      <td>1.00</td>\n",
              "      <td>2084</td>\n",
              "      <td>2022</td>\n",
              "      <td>JAN</td>\n",
              "      <td>1</td>\n",
              "      <td>4</td>\n",
              "      <td>15</td>\n",
              "      <td>Northeast India</td>\n",
              "      <td>Q1</td>\n",
              "    </tr>\n",
              "    <tr>\n",
              "      <th>731766</th>\n",
              "      <td>1731767</td>\n",
              "      <td>Mahindra and Mahindra</td>\n",
              "      <td>Mahindra New Thar</td>\n",
              "      <td>N-10038</td>\n",
              "      <td>cable</td>\n",
              "      <td>S-12191</td>\n",
              "      <td>12/31/2021</td>\n",
              "      <td>1:16:12 PM</td>\n",
              "      <td>4</td>\n",
              "      <td>DAYTIME</td>\n",
              "      <td>30</td>\n",
              "      <td>1.00</td>\n",
              "      <td>42693</td>\n",
              "      <td>2022</td>\n",
              "      <td>JAN</td>\n",
              "      <td>1</td>\n",
              "      <td>5</td>\n",
              "      <td>13</td>\n",
              "      <td>Southern India</td>\n",
              "      <td>Q1</td>\n",
              "    </tr>\n",
              "    <tr>\n",
              "      <th>731769</th>\n",
              "      <td>1731770</td>\n",
              "      <td>Mahindra and Mahindra</td>\n",
              "      <td>Mahindra New Thar</td>\n",
              "      <td>N-10092</td>\n",
              "      <td>cable</td>\n",
              "      <td>S-18149</td>\n",
              "      <td>12/29/2021</td>\n",
              "      <td>4:13:15 PM</td>\n",
              "      <td>3</td>\n",
              "      <td>EARLY FRINGE</td>\n",
              "      <td>30</td>\n",
              "      <td>1.00</td>\n",
              "      <td>2176</td>\n",
              "      <td>2022</td>\n",
              "      <td>JAN</td>\n",
              "      <td>1</td>\n",
              "      <td>3</td>\n",
              "      <td>16</td>\n",
              "      <td>Northeast India</td>\n",
              "      <td>Q1</td>\n",
              "    </tr>\n",
              "  </tbody>\n",
              "</table>\n",
              "<p>42522 rows × 20 columns</p>\n",
              "</div>\n",
              "      <button class=\"colab-df-convert\" onclick=\"convertToInteractive('df-119c9413-46a0-4d11-9f30-d84f6fc2a6b4')\"\n",
              "              title=\"Convert this dataframe to an interactive table.\"\n",
              "              style=\"display:none;\">\n",
              "        \n",
              "  <svg xmlns=\"http://www.w3.org/2000/svg\" height=\"24px\"viewBox=\"0 0 24 24\"\n",
              "       width=\"24px\">\n",
              "    <path d=\"M0 0h24v24H0V0z\" fill=\"none\"/>\n",
              "    <path d=\"M18.56 5.44l.94 2.06.94-2.06 2.06-.94-2.06-.94-.94-2.06-.94 2.06-2.06.94zm-11 1L8.5 8.5l.94-2.06 2.06-.94-2.06-.94L8.5 2.5l-.94 2.06-2.06.94zm10 10l.94 2.06.94-2.06 2.06-.94-2.06-.94-.94-2.06-.94 2.06-2.06.94z\"/><path d=\"M17.41 7.96l-1.37-1.37c-.4-.4-.92-.59-1.43-.59-.52 0-1.04.2-1.43.59L10.3 9.45l-7.72 7.72c-.78.78-.78 2.05 0 2.83L4 21.41c.39.39.9.59 1.41.59.51 0 1.02-.2 1.41-.59l7.78-7.78 2.81-2.81c.8-.78.8-2.07 0-2.86zM5.41 20L4 18.59l7.72-7.72 1.47 1.35L5.41 20z\"/>\n",
              "  </svg>\n",
              "      </button>\n",
              "      \n",
              "  <style>\n",
              "    .colab-df-container {\n",
              "      display:flex;\n",
              "      flex-wrap:wrap;\n",
              "      gap: 12px;\n",
              "    }\n",
              "\n",
              "    .colab-df-convert {\n",
              "      background-color: #E8F0FE;\n",
              "      border: none;\n",
              "      border-radius: 50%;\n",
              "      cursor: pointer;\n",
              "      display: none;\n",
              "      fill: #1967D2;\n",
              "      height: 32px;\n",
              "      padding: 0 0 0 0;\n",
              "      width: 32px;\n",
              "    }\n",
              "\n",
              "    .colab-df-convert:hover {\n",
              "      background-color: #E2EBFA;\n",
              "      box-shadow: 0px 1px 2px rgba(60, 64, 67, 0.3), 0px 1px 3px 1px rgba(60, 64, 67, 0.15);\n",
              "      fill: #174EA6;\n",
              "    }\n",
              "\n",
              "    [theme=dark] .colab-df-convert {\n",
              "      background-color: #3B4455;\n",
              "      fill: #D2E3FC;\n",
              "    }\n",
              "\n",
              "    [theme=dark] .colab-df-convert:hover {\n",
              "      background-color: #434B5C;\n",
              "      box-shadow: 0px 1px 3px 1px rgba(0, 0, 0, 0.15);\n",
              "      filter: drop-shadow(0px 1px 2px rgba(0, 0, 0, 0.3));\n",
              "      fill: #FFFFFF;\n",
              "    }\n",
              "  </style>\n",
              "\n",
              "      <script>\n",
              "        const buttonEl =\n",
              "          document.querySelector('#df-119c9413-46a0-4d11-9f30-d84f6fc2a6b4 button.colab-df-convert');\n",
              "        buttonEl.style.display =\n",
              "          google.colab.kernel.accessAllowed ? 'block' : 'none';\n",
              "\n",
              "        async function convertToInteractive(key) {\n",
              "          const element = document.querySelector('#df-119c9413-46a0-4d11-9f30-d84f6fc2a6b4');\n",
              "          const dataTable =\n",
              "            await google.colab.kernel.invokeFunction('convertToInteractive',\n",
              "                                                     [key], {});\n",
              "          if (!dataTable) return;\n",
              "\n",
              "          const docLinkHtml = 'Like what you see? Visit the ' +\n",
              "            '<a target=\"_blank\" href=https://colab.research.google.com/notebooks/data_table.ipynb>data table notebook</a>'\n",
              "            + ' to learn more about interactive tables.';\n",
              "          element.innerHTML = '';\n",
              "          dataTable['output_type'] = 'display_data';\n",
              "          await google.colab.output.renderOutput(dataTable, element);\n",
              "          const docLink = document.createElement('div');\n",
              "          docLink.innerHTML = docLinkHtml;\n",
              "          element.appendChild(docLink);\n",
              "        }\n",
              "      </script>\n",
              "    </div>\n",
              "  </div>\n",
              "  "
            ]
          },
          "metadata": {},
          "execution_count": 30
        }
      ]
    },
    {
      "cell_type": "code",
      "source": [
        "Mahindra_Q1_Spend=mahindra_Q1.groupby([\"Dayparts\"]).count()['Spend ($)']"
      ],
      "metadata": {
        "id": "AZkD7oQdxMtS"
      },
      "execution_count": null,
      "outputs": []
    },
    {
      "cell_type": "code",
      "source": [
        "Mahindra_Q1_Spend"
      ],
      "metadata": {
        "colab": {
          "base_uri": "https://localhost:8080/"
        },
        "id": "9di2Q08lkJQW",
        "outputId": "10565c5e-2a77-4b12-d64f-2680c5f62852"
      },
      "execution_count": null,
      "outputs": [
        {
          "output_type": "execute_result",
          "data": {
            "text/plain": [
              "Dayparts\n",
              "DAYTIME          8788\n",
              "EARLY FRINGE     2527\n",
              "EARLY MORNING    3520\n",
              "EVENING NEWS     1352\n",
              "LATE FRINGE      6885\n",
              "OVERNIGHT        1780\n",
              "PRIME ACCESS     1319\n",
              "PRIME TIME       9380\n",
              "WEEKEND          6971\n",
              "Name: Spend ($), dtype: int64"
            ]
          },
          "metadata": {},
          "execution_count": 32
        }
      ]
    },
    {
      "cell_type": "code",
      "source": [
        "plt.figure(figsize=([15,8]))\n",
        "Mahindra_Q1_Spend.plot.bar()\n",
        "plt.title(\"amount spent by Mahindra in Q1 w..r.t Dayparts\")\n",
        "plt.ylabel(\"amount Spent\")\n",
        "plt.xlabel(\"Dayparts\")\n",
        "plt.show()"
      ],
      "metadata": {
        "colab": {
          "base_uri": "https://localhost:8080/",
          "height": 585
        },
        "id": "wt3LFbaOxkT3",
        "outputId": "1563182a-2161-43d9-c1b3-7fe206190926"
      },
      "execution_count": null,
      "outputs": [
        {
          "output_type": "display_data",
          "data": {
            "text/plain": [
              "<Figure size 1080x576 with 1 Axes>"
            ],
            "image/png": "[encoded data removed]"
          },
          "metadata": {
            "needs_background": "light"
          }
        }
      ]
    },
    {
      "cell_type": "markdown",
      "source": [
        "**Insights:**<br>\n",
        "Mahindra and Mahindra has aired the most number of ads at prime time followed by daytime and then weekend."
      ],
      "metadata": {
        "id": "6YKjNn5RlKGQ"
      }
    },
    {
      "cell_type": "code",
      "source": [
        "Mahindra_Q1_Spend"
      ],
      "metadata": {
        "colab": {
          "base_uri": "https://localhost:8080/"
        },
        "id": "g4DqgDeYxXYf",
        "outputId": "ba90f60e-1563-45f6-96f2-03f421e96b7b"
      },
      "execution_count": null,
      "outputs": [
        {
          "output_type": "execute_result",
          "data": {
            "text/plain": [
              "Dayparts\n",
              "DAYTIME          8788\n",
              "EARLY FRINGE     2527\n",
              "EARLY MORNING    3520\n",
              "EVENING NEWS     1352\n",
              "LATE FRINGE      6885\n",
              "OVERNIGHT        1780\n",
              "PRIME ACCESS     1319\n",
              "PRIME TIME       9380\n",
              "WEEKEND          6971\n",
              "Name: Spend ($), dtype: int64"
            ]
          },
          "metadata": {},
          "execution_count": 34
        }
      ]
    },
    {
      "cell_type": "code",
      "source": [
        "Mahindra_Q1_Dayparts_Spend=mahindra_Q1.groupby([\"Dayparts\",\"Day Of Week\"]).sum()['Spend ($)']"
      ],
      "metadata": {
        "id": "N_fZ7R64uIzk"
      },
      "execution_count": null,
      "outputs": []
    },
    {
      "cell_type": "code",
      "source": [
        "Mahindra_Q1_Dayparts_Spend"
      ],
      "metadata": {
        "colab": {
          "base_uri": "https://localhost:8080/"
        },
        "id": "qi7yJab1ulBb",
        "outputId": "dd374e97-1214-4115-a619-d6781112b008"
      },
      "execution_count": null,
      "outputs": [
        {
          "output_type": "execute_result",
          "data": {
            "text/plain": [
              "Dayparts       Day Of Week\n",
              "DAYTIME        1               3849998\n",
              "               2               3902361\n",
              "               3               3554893\n",
              "               4               3964858\n",
              "               5               4153270\n",
              "EARLY FRINGE   1               1789293\n",
              "               2               1743795\n",
              "               3               1004199\n",
              "               4               1677747\n",
              "               5               1376632\n",
              "EARLY MORNING  1                503418\n",
              "               2                381715\n",
              "               3                348503\n",
              "               4                366964\n",
              "               5                468123\n",
              "               6                645014\n",
              "               7                633131\n",
              "EVENING NEWS   1               1176631\n",
              "               2               1437935\n",
              "               3                785752\n",
              "               4               1031453\n",
              "               5               1171314\n",
              "LATE FRINGE    1               1855301\n",
              "               2               1854094\n",
              "               3               1799249\n",
              "               4               1938768\n",
              "               5               2355642\n",
              "               6               1818504\n",
              "               7               1681136\n",
              "OVERNIGHT      1                303780\n",
              "               2                385078\n",
              "               3                406085\n",
              "               4                319028\n",
              "               5                432560\n",
              "               6                490109\n",
              "               7                282062\n",
              "PRIME ACCESS   1                959440\n",
              "               2                879410\n",
              "               3                531542\n",
              "               4                984277\n",
              "               5                685030\n",
              "PRIME TIME     1               5992695\n",
              "               2               6571807\n",
              "               3               6900697\n",
              "               4               7367563\n",
              "               5               6778911\n",
              "               6               7016951\n",
              "               7               7897201\n",
              "WEEKEND        6              12070610\n",
              "               7              11863387\n",
              "Name: Spend ($), dtype: int64"
            ]
          },
          "metadata": {},
          "execution_count": 36
        }
      ]
    },
    {
      "cell_type": "code",
      "source": [
        "plt.figure(figsize=([20,10]))\n",
        "Mahindra_Q1_Dayparts_Spend.unstack().plot.bar(width=0.8)\n",
        "plt.title(\"Amount spent for day of week w.r.t dayparts in Q1 by Mahindra and Mahindra\")\n",
        "plt.ylabel(\"Sum spent\")\n",
        "plt.xlabel(\"Dayparts\")\n",
        "plt.legend(title=\"Day Of Week\",loc=\"upper left\",bbox_to_anchor=(1.05,1.0))\n",
        "plt.show()"
      ],
      "metadata": {
        "colab": {
          "base_uri": "https://localhost:8080/",
          "height": 384
        },
        "id": "7IcO5se0vD3H",
        "outputId": "02597925-5c4c-4417-bc54-a0b5c2b2aee4"
      },
      "execution_count": null,
      "outputs": [
        {
          "output_type": "display_data",
          "data": {
            "text/plain": [
              "<Figure size 1440x720 with 0 Axes>"
            ]
          },
          "metadata": {}
        },
        {
          "output_type": "display_data",
          "data": {
            "text/plain": [
              "<Figure size 432x288 with 1 Axes>"
            ],
            "image/png": "[encoded data removed]"
          },
          "metadata": {
            "needs_background": "light"
          }
        }
      ]
    },
    {
      "cell_type": "markdown",
      "source": [
        "**Insights:**<br>\n",
        "- Mahindra and Mahindra has spent most of its expenditure on weekend and prime time on days 6 and 7.\n",
        "- Mahindra and Mahindra has also spent a considerable amount of its expenditure on all days of the week at Prime time.\n",
        "\n",
        "**Conclusion:**<br>\n",
        "- Mahindra and Mahindra should focus on all time zones to register their brand all over India especially the northern part like other brands to be able to compete with the other brands at the northern part.\n",
        "- Mahindra and Mahindra should consider spending more on Overnight slots on the weekend as many people tend to watch TV on the weekend nights.\n",
        "\n"
      ],
      "metadata": {
        "id": "W2SmGQRvjPFQ"
      }
    }
  ]
}